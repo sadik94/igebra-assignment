{
  "cells": [
    {
      "cell_type": "code",
      "execution_count": null,
      "metadata": {},
      "outputs": [],
      "source": [
        "# Cognitive Skills & Student Performance - Analysis Notebook\n",
        "\n",
        "import os\n",
        "import json\n",
        "import math\n",
        "import numpy as np\n",
        "import pandas as pd\n",
        "from pathlib import Path\n",
        "\n",
        "# Paths\n",
        "ROOT = Path('..').resolve()\n",
        "DATA_CSV = ROOT / 'data' / 'students.csv'\n",
        "PUBLIC_ANALYSIS = ROOT / 'public' / 'analysis'\n",
        "PUBLIC_DATA = ROOT / 'public' / 'data'\n",
        "PUBLIC_ANALYSIS.mkdir(parents=True, exist_ok=True)\n",
        "PUBLIC_DATA.mkdir(parents=True, exist_ok=True)\n",
        "\n",
        "# Load data\n",
        "df = pd.read_csv(DATA_CSV)\n",
        "print('Loaded rows:', len(df))\n",
        "df.head()\n"
      ]
    },
    {
      "cell_type": "code",
      "execution_count": 1,
      "metadata": {},
      "outputs": [
        {
          "ename": "NameError",
          "evalue": "name 'df' is not defined",
          "output_type": "error",
          "traceback": [
            "\u001b[0;31m---------------------------------------------------------------------------\u001b[0m",
            "\u001b[0;31mNameError\u001b[0m                                 Traceback (most recent call last)",
            "Cell \u001b[0;32mIn[1], line 5\u001b[0m\n\u001b[1;32m      1\u001b[0m \u001b[38;5;66;03m# EDA: basic stats and correlations\u001b[39;00m\n\u001b[1;32m      3\u001b[0m numeric_cols \u001b[38;5;241m=\u001b[39m [\u001b[38;5;124m'\u001b[39m\u001b[38;5;124mattention\u001b[39m\u001b[38;5;124m'\u001b[39m,\u001b[38;5;124m'\u001b[39m\u001b[38;5;124mfocus\u001b[39m\u001b[38;5;124m'\u001b[39m,\u001b[38;5;124m'\u001b[39m\u001b[38;5;124mcomprehension\u001b[39m\u001b[38;5;124m'\u001b[39m,\u001b[38;5;124m'\u001b[39m\u001b[38;5;124mretention\u001b[39m\u001b[38;5;124m'\u001b[39m,\u001b[38;5;124m'\u001b[39m\u001b[38;5;124mengagement_time\u001b[39m\u001b[38;5;124m'\u001b[39m,\u001b[38;5;124m'\u001b[39m\u001b[38;5;124massessment_score\u001b[39m\u001b[38;5;124m'\u001b[39m]\n\u001b[0;32m----> 5\u001b[0m summary \u001b[38;5;241m=\u001b[39m \u001b[43mdf\u001b[49m[numeric_cols]\u001b[38;5;241m.\u001b[39mdescribe()\u001b[38;5;241m.\u001b[39mT\n\u001b[1;32m      6\u001b[0m \u001b[38;5;28mprint\u001b[39m(summary)\n\u001b[1;32m      8\u001b[0m corr \u001b[38;5;241m=\u001b[39m df[numeric_cols]\u001b[38;5;241m.\u001b[39mcorr()\n",
            "\u001b[0;31mNameError\u001b[0m: name 'df' is not defined"
          ]
        }
      ],
      "source": [
        "# EDA: basic stats and correlations\n",
        "\n",
        "numeric_cols = ['attention','focus','comprehension','retention','engagement_time','assessment_score']\n",
        "\n",
        "summary = df[numeric_cols].describe().T\n",
        "print(summary)\n",
        "\n",
        "corr = df[numeric_cols].corr()\n",
        "print(\"\\nCorrelation with assessment_score:\\n\", corr['assessment_score'].sort_values(ascending=False))\n",
        "\n",
        "# Export correlation matrix to JSON for dashboard use\n",
        "corr_out = {\n",
        "    'matrix': corr.round(3).to_dict(),\n",
        "    'sorted_vs_score': corr['assessment_score'].sort_values(ascending=False).round(3).to_dict()\n",
        "}\n",
        "with open(PUBLIC_ANALYSIS / 'correlations.json', 'w') as f:\n",
        "    json.dump(corr_out, f, indent=2)\n",
        "print('Wrote', PUBLIC_ANALYSIS / 'correlations.json')\n"
      ]
    },
    {
      "cell_type": "code",
      "execution_count": null,
      "metadata": {},
      "outputs": [],
      "source": [
        "# Simple regression model to predict assessment_score\n",
        "from sklearn.model_selection import train_test_split\n",
        "from sklearn.metrics import r2_score, mean_absolute_error\n",
        "from sklearn.linear_model import LinearRegression\n",
        "\n",
        "X = df[['attention','focus','comprehension','retention','engagement_time']]\n",
        "y = df['assessment_score']\n",
        "\n",
        "X_train, X_test, y_train, y_test = train_test_split(X, y, test_size=0.25, random_state=42)\n",
        "\n",
        "model = LinearRegression()\n",
        "model.fit(X_train, y_train)\n",
        "\n",
        "preds = model.predict(X_test)\n",
        "r2 = r2_score(y_test, preds)\n",
        "mae = mean_absolute_error(y_test, preds)\n",
        "\n",
        "print('R2:', round(r2, 3), ' MAE:', round(mae, 2))\n",
        "\n",
        "# Export model coefficients and metrics\n",
        "coefs = dict(zip(X.columns, model.coef_))\n",
        "metrics = {'r2': float(r2), 'mae': float(mae)}\n",
        "with open(PUBLIC_ANALYSIS / 'model.json', 'w') as f:\n",
        "    json.dump({'coefficients': coefs, 'intercept': float(model.intercept_), 'metrics': metrics}, f, indent=2)\n",
        "print('Wrote', PUBLIC_ANALYSIS / 'model.json')\n"
      ]
    },
    {
      "cell_type": "code",
      "execution_count": null,
      "metadata": {},
      "outputs": [],
      "source": [
        "# Clustering: derive learning personas\n",
        "from sklearn.preprocessing import StandardScaler\n",
        "from sklearn.cluster import KMeans\n",
        "\n",
        "features = ['attention','focus','comprehension','retention','engagement_time']\n",
        "scaler = StandardScaler()\n",
        "Z = scaler.fit_transform(df[features])\n",
        "\n",
        "k = 3\n",
        "km = KMeans(n_clusters=k, n_init='auto', random_state=42)\n",
        "labels = km.fit_predict(Z)\n",
        "\n",
        "df['persona'] = labels\n",
        "\n",
        "persona_summary = df.groupby('persona')[features + ['assessment_score']].mean().round(1)\n",
        "print(persona_summary)\n",
        "\n",
        "# Export per-student personas and cluster centroids\n",
        "export = df[['student_id','name','class','persona']].to_dict(orient='records')\n",
        "centroids = scaler.inverse_transform(km.cluster_centers_)\n",
        "centroids_out = [{features[i]: float(v[i]) for i in range(len(features))} for v in centroids]\n",
        "\n",
        "with open(PUBLIC_ANALYSIS / 'personas.json', 'w') as f:\n",
        "    json.dump({'personas': export, 'centroids': centroids_out}, f, indent=2)\n",
        "print('Wrote', PUBLIC_ANALYSIS / 'personas.json')\n"
      ]
    }
  ],
  "metadata": {
    "kernelspec": {
      "display_name": "Python 3",
      "language": "python",
      "name": "python3"
    },
    "language_info": {
      "codemirror_mode": {
        "name": "ipython",
        "version": 3
      },
      "file_extension": ".py",
      "mimetype": "text/x-python",
      "name": "python",
      "nbconvert_exporter": "python",
      "pygments_lexer": "ipython3",
      "version": "3.10.17"
    }
  },
  "nbformat": 4,
  "nbformat_minor": 2
}
